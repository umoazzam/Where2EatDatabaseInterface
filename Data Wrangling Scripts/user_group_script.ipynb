{
 "cells": [
  {
   "cell_type": "code",
   "execution_count": 1,
   "id": "aaba2ebb",
   "metadata": {},
   "outputs": [],
   "source": [
    "import pandas as pd\n",
    "import numpy as np\n",
    "cuisine_data = pd.read_csv('/Users/raunakbhimsaria/Downloads/RCdata/chefmozcuisine.csv')\n",
    "main_data = pd.read_csv('/Users/raunakbhimsaria/Downloads/RCdata/geoplaces2.csv', encoding='ISO-8859-1')\n",
    "parking_data = pd.read_csv('/Users/raunakbhimsaria/Downloads/RCdata/chefmozparking.csv')\n",
    "new_df = pd.pivot_table(cuisine_data, 'Rcuisine', index = 'placeID',aggfunc = lambda x : list(x))\n",
    "main_data = pd.merge(main_data, new_df, on = 'placeID', how = 'left')\n",
    "main_data = pd.merge(main_data, pd.pivot_table(parking_data, 'parking_lot', index = 'placeID',\n",
    "                                               aggfunc = lambda x : list(x)), on = 'placeID', how = 'left')\n",
    "main_data = main_data.drop(columns=[\"other_services\", 'franchise', 'url', 'zip', 'fax', 'country', \n",
    "                                    'the_geom_meter'])\n",
    "main_data.to_csv('restaurants.csv')"
   ]
  },
  {
   "cell_type": "code",
   "execution_count": 2,
   "id": "ef59e1ad",
   "metadata": {},
   "outputs": [],
   "source": [
    "user_cuisine_data = pd.read_csv('/Users/raunakbhimsaria/Downloads/RCdata/usercuisine.csv')\n",
    "user_main_data = pd.read_csv('/Users/raunakbhimsaria/Downloads/RCdata/userprofile.csv')\n",
    "user_main_data = pd.merge(user_main_data, pd.pivot_table(user_cuisine_data, 'Rcuisine', index = 'userID', \n",
    "                                                         aggfunc = lambda x : list(x)), on = 'userID', \n",
    "                                                         how = 'left')\n",
    "user_main_data = user_main_data.drop(columns=['interest', 'religion', 'color', 'personality', 'hijos'])\n",
    "user_main_data.to_csv('users.csv')"
   ]
  },
  {
   "cell_type": "code",
   "execution_count": 5,
   "id": "f2f59f6b",
   "metadata": {},
   "outputs": [
    {
     "name": "stdout",
     "output_type": "stream",
     "text": [
      "[[['U1024', 'U1027', 'U1048', 'U1083', 'U1122', 'U1130']], [['U1009', 'U1021', 'U1030', 'U1038', 'U1052', 'U1060', 'U1075', 'U1086', 'U1096', 'U1110', 'U1123']], [['U1001', 'U1009', 'U1019', 'U1028', 'U1034', 'U1044', 'U1053', 'U1060', 'U1074', 'U1081', 'U1091', 'U1098', 'U1113', 'U1123']], [['U1001', 'U1038', 'U1084']], [['U1001', 'U1028', 'U1053', 'U1081', 'U1113']], [['U1001', 'U1011', 'U1022', 'U1032', 'U1042', 'U1053', 'U1063', 'U1076', 'U1088', 'U1097', 'U1113', 'U1133']], [['U1006', 'U1018', 'U1040', 'U1059', 'U1070', 'U1094', 'U1106', 'U1117', 'U1126']], [['U1006', 'U1039', 'U1065', 'U1101', 'U1118']], [['U1006', 'U1041', 'U1080', 'U1112', 'U1136']], [['U1006', 'U1014', 'U1020', 'U1039', 'U1045', 'U1059', 'U1065', 'U1071', 'U1090', 'U1101', 'U1106', 'U1112', 'U1118', 'U1125', 'U1129']]]\n"
     ]
    }
   ],
   "source": [
    "group_df = pd.pivot_table(user_main_data, 'userID', index = 'ambience', aggfunc = lambda x : list(x))\n",
    "undecided_array = (group_df.loc['?',])[0]\n",
    "family_array = (group_df.loc['family',])[0]\n",
    "friends_array = (group_df.loc['friends',])[0]\n",
    "solitary_array = (group_df.loc['solitary',])[0]\n",
    "groups = [[undecided_array[0:]],[family_array[5:69:6]],[family_array[0:69:5]], [family_array[0:69:23]], \n",
    "          [family_array[0:69:15]], [family_array[0:69:6]], [friends_array[0:45:5]], [friends_array[0:45:9]], \n",
    "          [friends_array[0:45:11]], [friends_array[0:45:3]]]\n",
    "group_type = ['undecided', 'family', 'family', 'family', 'family', 'family', 'friends', 'friends', 'friends', \n",
    "              'friends']\n",
    "min_budget = [0,0,0,0,0,0,0,0,0,0]\n",
    "for i in range(10):\n",
    "    for j in groups[i][0]:\n",
    "        budget = (user_main_data.loc[user_main_data['userID'] == j]['budget']).values[0]\n",
    "        if(budget == 'low'):\n",
    "            min_budget[i] = 'low'\n",
    "            break\n",
    "        if(budget == 'medium'):\n",
    "            min_budget[i] = 'medium'\n",
    "    if (type(min_budget) == int):\n",
    "        min_budget = 'high'\n",
    "import statistics\n",
    "from statistics import mode\n",
    "cuisine_overlap = []\n",
    "for i in range(10):\n",
    "    cuisines = []\n",
    "    for j in groups[i][0]:\n",
    "        curr_cuisine = (user_main_data.loc[user_main_data['userID'] == j]['Rcuisine']).values[0]\n",
    "        if curr_cuisine[0] != 'Mexican':\n",
    "            cuisines = cuisines + curr_cuisine\n",
    "    cuisine_overlap.append(mode(cuisines))\n",
    "group_df = pd.DataFrame({'groups' : groups, 'type' : group_type, 'min_budget' : min_budget, \n",
    "                         'cuisine_overlap' : cuisine_overlap})\n",
    "group_df.to_csv('groups.csv')\n",
    "group_df.to_pickle('pickle_file')\n",
    "print(groups)"
   ]
  },
  {
   "cell_type": "code",
   "execution_count": null,
   "id": "d31e58a4",
   "metadata": {},
   "outputs": [],
   "source": []
  },
  {
   "cell_type": "code",
   "execution_count": null,
   "id": "0a47f65e",
   "metadata": {},
   "outputs": [],
   "source": []
  },
  {
   "cell_type": "code",
   "execution_count": null,
   "id": "729bf492",
   "metadata": {},
   "outputs": [],
   "source": []
  }
 ],
 "metadata": {
  "kernelspec": {
   "display_name": "Python 3 (ipykernel)",
   "language": "python",
   "name": "python3"
  },
  "language_info": {
   "codemirror_mode": {
    "name": "ipython",
    "version": 3
   },
   "file_extension": ".py",
   "mimetype": "text/x-python",
   "name": "python",
   "nbconvert_exporter": "python",
   "pygments_lexer": "ipython3",
   "version": "3.9.7"
  }
 },
 "nbformat": 4,
 "nbformat_minor": 5
}
